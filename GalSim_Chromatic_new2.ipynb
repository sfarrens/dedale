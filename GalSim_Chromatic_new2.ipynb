{
 "cells": [
  {
   "cell_type": "markdown",
   "metadata": {},
   "source": [
    "# GalSim Chromatic Objects for DEDALE\n",
    "---\n",
    "> Author: **Samuel Farrens [<samuel.farrens@gmail.com>]**  \n",
    "> Year: **2018**\n",
    "\n",
    "This notebook is used to generate multi-colour galaxy images with a either a Sersic, Exponential or single pixel profile using LSST and Euclid filters. SEDs are drawn from simulated spectra.\n",
    "\n",
    "## Set-Up\n",
    "---"
   ]
  },
  {
   "cell_type": "code",
   "execution_count": 1,
   "metadata": {
    "scrolled": true
   },
   "outputs": [],
   "source": [
    "%matplotlib inline\n",
    "import numpy as np\n",
    "import matplotlib.pyplot as plt\n",
    "import galsim\n",
    "from astropy import units as u\n",
    "from os import environ\n",
    "import pandas as pd"
   ]
  },
  {
   "cell_type": "markdown",
   "metadata": {},
   "source": [
    "In the next cell you should set the path to your local GalSim installation in order to find the LSST filters.\n",
    "\n",
    "You should also set the desired number of galaxy images and the postage stamp size for each image."
   ]
  },
  {
   "cell_type": "code",
   "execution_count": 2,
   "metadata": {
    "scrolled": true
   },
   "outputs": [],
   "source": [
    "# Set path to GalSim\n",
    "galsim_path = galsim.meta_data.share_dir\n",
    "dedale_path = environ['HOME'] + '/Documents/Projects/DEDALE/spec_phot/'\n",
    "\n",
    "# Set total number of galaxy images to generate\n",
    "sample_size = 9\n",
    "\n",
    "# Postage stamp size\n",
    "postage = [41, 41]"
   ]
  },
  {
   "cell_type": "markdown",
   "metadata": {},
   "source": [
    "## Survey Properties\n",
    "---\n",
    "\n",
    "The cell below sets properties for the LSST and Euclid surveys."
   ]
  },
  {
   "cell_type": "code",
   "execution_count": 3,
   "metadata": {},
   "outputs": [],
   "source": [
    "# Filter Names\n",
    "lsst_filters = 'ugrizy'\n",
    "euclid_filters = 'yJH'\n",
    "\n",
    "filter_names = ['lsst_' + f for f in lsst_filters] + ['euclid_' + f for f in euclid_filters]\n",
    "\n",
    "# Pixel Scale\n",
    "lsst_pixel_size = 0.2\n",
    "euclid_pixel_size = 0.3\n",
    "\n",
    "pixel_sizes = [lsst_pixel_size for f in lsst_filters] + [euclid_pixel_size for f in euclid_filters]\n",
    "\n",
    "# PSF FWHM\n",
    "lsst_psf_fwhm = 0.7\n",
    "euclid_psf_fwhm = 0.3\n",
    "\n",
    "psf_sizes = [lsst_psf_fwhm for f in lsst_filters] + [euclid_psf_fwhm for f in euclid_filters]"
   ]
  },
  {
   "cell_type": "markdown",
   "metadata": {},
   "source": [
    "## Object IDs\n",
    "---"
   ]
  },
  {
   "cell_type": "markdown",
   "metadata": {},
   "source": [
    "The following cell extracts the object IDs, SED types and redshifts from the file `2017-12-06_LSST_photometry.csv`."
   ]
  },
  {
   "cell_type": "code",
   "execution_count": 4,
   "metadata": {},
   "outputs": [],
   "source": [
    "object_ids, object_seds, object_z = np.genfromtxt(dedale_path + '2017-12-06_LSST_photometry.csv', dtype=str,\n",
    "                                                   delimiter=',', skip_header=1, unpack=True)[:3, :sample_size]"
   ]
  },
  {
   "cell_type": "markdown",
   "metadata": {},
   "source": [
    "## Survey Bandpasses\n",
    "---\n",
    "\n",
    "The following cell generates GalSim Bandpass objects using LSST and Euclid filters."
   ]
  },
  {
   "cell_type": "code",
   "execution_count": 5,
   "metadata": {
    "scrolled": true
   },
   "outputs": [],
   "source": [
    "# Set path to LSST filters files\n",
    "lsst_path = galsim_path + '/bandpasses/'\n",
    "euclid_path = dedale_path + 'euclid_bandpasses/'\n",
    "\n",
    "# Create dictionary of galsim Bandpass objects\n",
    "filters = {'lsst_' + filt: galsim.Bandpass(lsst_path + 'LSST_' + filt + '.dat', \n",
    "           wave_type='nm').thin(rel_err=1e-4) for filt in lsst_filters}\n",
    "filters.update({'euclid_' + filt: galsim.Bandpass(euclid_path + filt + '_NISP.Euclid.pb', \n",
    "                wave_type='nm').thin(rel_err=1e-4) for filt in euclid_filters})\n",
    "\n",
    "del lsst_path, euclid_path"
   ]
  },
  {
   "cell_type": "markdown",
   "metadata": {},
   "source": [
    "## Object SEDs\n",
    "---\n",
    "\n",
    "The following cell generates GalSim SED objects using simulated spectra."
   ]
  },
  {
   "cell_type": "code",
   "execution_count": 6,
   "metadata": {
    "scrolled": false
   },
   "outputs": [],
   "source": [
    "def get_sed(file_name):\n",
    "    \n",
    "     return galsim.SED(file_name, wave_type=u.AA, flux_type=u.erg/(u.s*u.cm**2*u.AA))\n",
    "\n",
    "# Set path to SED files\n",
    "sed_path = dedale_path + 'sed_files/'\n",
    "\n",
    "# # Create dictionary of galsim SED objects\n",
    "seds = np.array([get_sed(sed_path + 'obj_{}.sed'.format(obj_id)) for obj_id in object_ids])\n",
    "\n",
    "del sed_path"
   ]
  },
  {
   "cell_type": "markdown",
   "metadata": {},
   "source": [
    "## Image Sizes\n",
    "---\n",
    "\n",
    "The following cell uses a range of half-light radius values taken from Great3 data. Galaxy images will be assigned a random flux that follows the distribution in the file `hlr_dist.npy`."
   ]
  },
  {
   "cell_type": "code",
   "execution_count": 7,
   "metadata": {},
   "outputs": [],
   "source": [
    "# Read in half light radius (HLR) distribution\n",
    "hlr_dist = np.load('hlr_dist.npy')\n",
    "\n",
    "# Get the probability density of HLR values\n",
    "hlr_hist, hlr_bins = np.histogram(hlr_dist, bins=50, density=True)\n",
    "\n",
    "# Normalise HLR hist values\n",
    "hlr_hist /= hlr_hist.sum()\n",
    "\n",
    "# Adjust bin edges to bin centres\n",
    "hlr_bins = (hlr_bins[:-1] + hlr_bins[1:]) / 2.0\n",
    "\n",
    "# Define random HLR values from PDF\n",
    "random_hlr = (np.random.choice(hlr_bins, size=sample_size, p=hlr_hist) + \n",
    "              np.random.ranf(sample_size) * (hlr_bins[1] - hlr_bins[0]))\n",
    "\n",
    "del hlr_dist, hlr_hist, hlr_bins"
   ]
  },
  {
   "cell_type": "markdown",
   "metadata": {},
   "source": [
    "## Image Ellipticities\n",
    "---\n",
    "\n",
    "The following cell sets random ellipticity parameters for the images."
   ]
  },
  {
   "cell_type": "code",
   "execution_count": 8,
   "metadata": {},
   "outputs": [],
   "source": [
    "# Random rotation\n",
    "object_beta = np.array([galsim.Angle(np.random.ranf() * 180.0, galsim.degrees) for obj_id in object_ids])\n",
    "# Random axis ratio\n",
    "object_q = np.array([np.random.ranf() for obj_id in object_ids])\n",
    "# Ellipticity components\n",
    "object_e1 = np.array([galsim.Shear(q=q, beta=beta).e1 for q, beta in zip(object_q, object_beta)])\n",
    "object_e2 = np.array([galsim.Shear(q=q, beta=beta).e2 for q, beta in zip(object_q, object_beta)])"
   ]
  },
  {
   "cell_type": "markdown",
   "metadata": {},
   "source": [
    "## Galaxy Type\n",
    "---\n",
    "\n",
    "The following cell sets random galaxy types"
   ]
  },
  {
   "cell_type": "code",
   "execution_count": 9,
   "metadata": {},
   "outputs": [],
   "source": [
    "types = ('sersic', 'exponential', 'pixel')\n",
    "object_types = np.array([types[np.random.randint(0, 3)] for obj_id in object_ids])"
   ]
  },
  {
   "cell_type": "markdown",
   "metadata": {},
   "source": [
    "## Object Labels\n",
    "---"
   ]
  },
  {
   "cell_type": "code",
   "execution_count": 10,
   "metadata": {},
   "outputs": [
    {
     "data": {
      "text/html": [
       "<div>\n",
       "<style scoped>\n",
       "    .dataframe tbody tr th:only-of-type {\n",
       "        vertical-align: middle;\n",
       "    }\n",
       "\n",
       "    .dataframe tbody tr th {\n",
       "        vertical-align: top;\n",
       "    }\n",
       "\n",
       "    .dataframe thead th {\n",
       "        text-align: right;\n",
       "    }\n",
       "</style>\n",
       "<table border=\"1\" class=\"dataframe\">\n",
       "  <thead>\n",
       "    <tr style=\"text-align: right;\">\n",
       "      <th></th>\n",
       "      <th>HLR</th>\n",
       "      <th>ID</th>\n",
       "      <th>PSF_Size</th>\n",
       "      <th>SED</th>\n",
       "      <th>SED_Type</th>\n",
       "      <th>Type</th>\n",
       "      <th>beta</th>\n",
       "      <th>e1</th>\n",
       "      <th>e2</th>\n",
       "      <th>q</th>\n",
       "      <th>z</th>\n",
       "    </tr>\n",
       "  </thead>\n",
       "  <tbody>\n",
       "    <tr>\n",
       "      <th>0</th>\n",
       "      <td>0.108205</td>\n",
       "      <td>256183</td>\n",
       "      <td>0.7</td>\n",
       "      <td>galsim.SED('/Users/farrens/Documents/Projects/...</td>\n",
       "      <td>223</td>\n",
       "      <td>pixel</td>\n",
       "      <td>1.22388573895 radians</td>\n",
       "      <td>-0.743823</td>\n",
       "      <td>0.618698</td>\n",
       "      <td>0.12852</td>\n",
       "      <td>0.306</td>\n",
       "    </tr>\n",
       "    <tr>\n",
       "      <th>1</th>\n",
       "      <td>0.410365</td>\n",
       "      <td>256184</td>\n",
       "      <td>0.7</td>\n",
       "      <td>galsim.SED('/Users/farrens/Documents/Projects/...</td>\n",
       "      <td>8788</td>\n",
       "      <td>pixel</td>\n",
       "      <td>0.312447836693 radians</td>\n",
       "      <td>0.120044</td>\n",
       "      <td>0.0865912</td>\n",
       "      <td>0.861473</td>\n",
       "      <td>0.478</td>\n",
       "    </tr>\n",
       "    <tr>\n",
       "      <th>2</th>\n",
       "      <td>0.116937</td>\n",
       "      <td>256326</td>\n",
       "      <td>0.7</td>\n",
       "      <td>galsim.SED('/Users/farrens/Documents/Projects/...</td>\n",
       "      <td>7377</td>\n",
       "      <td>pixel</td>\n",
       "      <td>2.09164149491 radians</td>\n",
       "      <td>-0.339007</td>\n",
       "      <td>-0.579779</td>\n",
       "      <td>0.443223</td>\n",
       "      <td>0.2196</td>\n",
       "    </tr>\n",
       "    <tr>\n",
       "      <th>3</th>\n",
       "      <td>0.153821</td>\n",
       "      <td>256424</td>\n",
       "      <td>0.7</td>\n",
       "      <td>galsim.SED('/Users/farrens/Documents/Projects/...</td>\n",
       "      <td>8233</td>\n",
       "      <td>pixel</td>\n",
       "      <td>2.77735993958 radians</td>\n",
       "      <td>0.553715</td>\n",
       "      <td>-0.494001</td>\n",
       "      <td>0.384803</td>\n",
       "      <td>0.3334</td>\n",
       "    </tr>\n",
       "    <tr>\n",
       "      <th>4</th>\n",
       "      <td>0.255894</td>\n",
       "      <td>256455</td>\n",
       "      <td>0.7</td>\n",
       "      <td>galsim.SED('/Users/farrens/Documents/Projects/...</td>\n",
       "      <td>1511</td>\n",
       "      <td>pixel</td>\n",
       "      <td>1.71535708462 radians</td>\n",
       "      <td>-0.415408</td>\n",
       "      <td>-0.123566</td>\n",
       "      <td>0.628719</td>\n",
       "      <td>1.0885</td>\n",
       "    </tr>\n",
       "    <tr>\n",
       "      <th>5</th>\n",
       "      <td>0.19721</td>\n",
       "      <td>256908</td>\n",
       "      <td>0.7</td>\n",
       "      <td>galsim.SED('/Users/farrens/Documents/Projects/...</td>\n",
       "      <td>4930</td>\n",
       "      <td>exponential</td>\n",
       "      <td>1.9190032196 radians</td>\n",
       "      <td>-0.368272</td>\n",
       "      <td>-0.30794</td>\n",
       "      <td>0.592708</td>\n",
       "      <td>0.6344</td>\n",
       "    </tr>\n",
       "    <tr>\n",
       "      <th>6</th>\n",
       "      <td>0.567888</td>\n",
       "      <td>256909</td>\n",
       "      <td>0.3</td>\n",
       "      <td>galsim.SED('/Users/farrens/Documents/Projects/...</td>\n",
       "      <td>263</td>\n",
       "      <td>exponential</td>\n",
       "      <td>1.90912162431 radians</td>\n",
       "      <td>-0.572779</td>\n",
       "      <td>-0.460019</td>\n",
       "      <td>0.391124</td>\n",
       "      <td>0.2102</td>\n",
       "    </tr>\n",
       "    <tr>\n",
       "      <th>7</th>\n",
       "      <td>0.457971</td>\n",
       "      <td>256957</td>\n",
       "      <td>0.3</td>\n",
       "      <td>galsim.SED('/Users/farrens/Documents/Projects/...</td>\n",
       "      <td>3922</td>\n",
       "      <td>pixel</td>\n",
       "      <td>0.871711023327 radians</td>\n",
       "      <td>-0.0415081</td>\n",
       "      <td>0.238058</td>\n",
       "      <td>0.781511</td>\n",
       "      <td>1.5873</td>\n",
       "    </tr>\n",
       "    <tr>\n",
       "      <th>8</th>\n",
       "      <td>0.189315</td>\n",
       "      <td>257019</td>\n",
       "      <td>0.3</td>\n",
       "      <td>galsim.SED('/Users/farrens/Documents/Projects/...</td>\n",
       "      <td>2314</td>\n",
       "      <td>pixel</td>\n",
       "      <td>0.259785518528 radians</td>\n",
       "      <td>0.180455</td>\n",
       "      <td>0.103219</td>\n",
       "      <td>0.809802</td>\n",
       "      <td>0.2626</td>\n",
       "    </tr>\n",
       "  </tbody>\n",
       "</table>\n",
       "</div>"
      ],
      "text/plain": [
       "        HLR      ID PSF_Size  \\\n",
       "0  0.108205  256183      0.7   \n",
       "1  0.410365  256184      0.7   \n",
       "2  0.116937  256326      0.7   \n",
       "3  0.153821  256424      0.7   \n",
       "4  0.255894  256455      0.7   \n",
       "5   0.19721  256908      0.7   \n",
       "6  0.567888  256909      0.3   \n",
       "7  0.457971  256957      0.3   \n",
       "8  0.189315  257019      0.3   \n",
       "\n",
       "                                                 SED SED_Type         Type  \\\n",
       "0  galsim.SED('/Users/farrens/Documents/Projects/...      223        pixel   \n",
       "1  galsim.SED('/Users/farrens/Documents/Projects/...     8788        pixel   \n",
       "2  galsim.SED('/Users/farrens/Documents/Projects/...     7377        pixel   \n",
       "3  galsim.SED('/Users/farrens/Documents/Projects/...     8233        pixel   \n",
       "4  galsim.SED('/Users/farrens/Documents/Projects/...     1511        pixel   \n",
       "5  galsim.SED('/Users/farrens/Documents/Projects/...     4930  exponential   \n",
       "6  galsim.SED('/Users/farrens/Documents/Projects/...      263  exponential   \n",
       "7  galsim.SED('/Users/farrens/Documents/Projects/...     3922        pixel   \n",
       "8  galsim.SED('/Users/farrens/Documents/Projects/...     2314        pixel   \n",
       "\n",
       "                     beta         e1         e2         q       z  \n",
       "0   1.22388573895 radians  -0.743823   0.618698   0.12852   0.306  \n",
       "1  0.312447836693 radians   0.120044  0.0865912  0.861473   0.478  \n",
       "2   2.09164149491 radians  -0.339007  -0.579779  0.443223  0.2196  \n",
       "3   2.77735993958 radians   0.553715  -0.494001  0.384803  0.3334  \n",
       "4   1.71535708462 radians  -0.415408  -0.123566  0.628719  1.0885  \n",
       "5    1.9190032196 radians  -0.368272   -0.30794  0.592708  0.6344  \n",
       "6   1.90912162431 radians  -0.572779  -0.460019  0.391124  0.2102  \n",
       "7  0.871711023327 radians -0.0415081   0.238058  0.781511  1.5873  \n",
       "8  0.259785518528 radians   0.180455   0.103219  0.809802  0.2626  "
      ]
     },
     "execution_count": 10,
     "metadata": {},
     "output_type": "execute_result"
    }
   ],
   "source": [
    "labels = pd.DataFrame(data={'ID': object_ids, 'SED_Type': object_seds, 'SED': seds, 'z': object_z, 'Type' : object_types, \n",
    "                            'HLR' : random_hlr, 'PSF_Size' : psf_sizes,\n",
    "                            'q' : object_q, 'beta': object_beta, 'e1' : object_e1, 'e2' : object_e2}, dtype='object')\n",
    "\n",
    "labels"
   ]
  },
  {
   "cell_type": "code",
   "execution_count": 11,
   "metadata": {},
   "outputs": [
    {
     "data": {
      "text/html": [
       "<div>\n",
       "<style scoped>\n",
       "    .dataframe tbody tr th:only-of-type {\n",
       "        vertical-align: middle;\n",
       "    }\n",
       "\n",
       "    .dataframe tbody tr th {\n",
       "        vertical-align: top;\n",
       "    }\n",
       "\n",
       "    .dataframe thead th {\n",
       "        text-align: right;\n",
       "    }\n",
       "</style>\n",
       "<table border=\"1\" class=\"dataframe\">\n",
       "  <thead>\n",
       "    <tr style=\"text-align: right;\">\n",
       "      <th></th>\n",
       "      <th>HLR</th>\n",
       "      <th>ID</th>\n",
       "      <th>PSF_Size</th>\n",
       "      <th>SED</th>\n",
       "      <th>SED_Type</th>\n",
       "      <th>Type</th>\n",
       "      <th>beta</th>\n",
       "      <th>e1</th>\n",
       "      <th>e2</th>\n",
       "      <th>q</th>\n",
       "      <th>z</th>\n",
       "    </tr>\n",
       "  </thead>\n",
       "  <tbody>\n",
       "    <tr>\n",
       "      <th>0</th>\n",
       "      <td>0.108205</td>\n",
       "      <td>256183</td>\n",
       "      <td>0.7</td>\n",
       "      <td>galsim.SED('/Users/farrens/Documents/Projects/...</td>\n",
       "      <td>223</td>\n",
       "      <td>pixel</td>\n",
       "      <td>1.22388573895 radians</td>\n",
       "      <td>-0.743823</td>\n",
       "      <td>0.618698</td>\n",
       "      <td>0.12852</td>\n",
       "      <td>0.306</td>\n",
       "    </tr>\n",
       "  </tbody>\n",
       "</table>\n",
       "</div>"
      ],
      "text/plain": [
       "        HLR      ID PSF_Size  \\\n",
       "0  0.108205  256183      0.7   \n",
       "\n",
       "                                                 SED SED_Type   Type  \\\n",
       "0  galsim.SED('/Users/farrens/Documents/Projects/...      223  pixel   \n",
       "\n",
       "                    beta        e1        e2        q      z  \n",
       "0  1.22388573895 radians -0.743823  0.618698  0.12852  0.306  "
      ]
     },
     "execution_count": 11,
     "metadata": {},
     "output_type": "execute_result"
    }
   ],
   "source": [
    "labels[labels.ID == \"256183\"]"
   ]
  },
  {
   "cell_type": "code",
   "execution_count": 12,
   "metadata": {},
   "outputs": [
    {
     "ename": "IndexError",
     "evalue": "index 0 is out of bounds for axis 0 with size 0",
     "output_type": "error",
     "traceback": [
      "\u001b[0;31m---------------------------------------------------------------------------\u001b[0m",
      "\u001b[0;31mIndexError\u001b[0m                                Traceback (most recent call last)",
      "\u001b[0;32m<ipython-input-12-9065c51d32e8>\u001b[0m in \u001b[0;36m<module>\u001b[0;34m()\u001b[0m\n\u001b[0;32m----> 1\u001b[0;31m \u001b[0mlabels\u001b[0m\u001b[0;34m[\u001b[0m\u001b[0mlabels\u001b[0m\u001b[0;34m.\u001b[0m\u001b[0mType\u001b[0m \u001b[0;34m==\u001b[0m \u001b[0;34m\"sersic\"\u001b[0m\u001b[0;34m]\u001b[0m\u001b[0;34m.\u001b[0m\u001b[0mindex\u001b[0m\u001b[0;34m[\u001b[0m\u001b[0;36m0\u001b[0m\u001b[0;34m]\u001b[0m\u001b[0;34m\u001b[0m\u001b[0m\n\u001b[0m",
      "\u001b[0;32m/Users/farrens/Documents/Library/miniconda/envs/py2.7/lib/python2.7/site-packages/pandas/core/indexes/base.pyc\u001b[0m in \u001b[0;36m__getitem__\u001b[0;34m(self, key)\u001b[0m\n\u001b[1;32m   1741\u001b[0m \u001b[0;34m\u001b[0m\u001b[0m\n\u001b[1;32m   1742\u001b[0m         \u001b[0;32mif\u001b[0m \u001b[0mis_scalar\u001b[0m\u001b[0;34m(\u001b[0m\u001b[0mkey\u001b[0m\u001b[0;34m)\u001b[0m\u001b[0;34m:\u001b[0m\u001b[0;34m\u001b[0m\u001b[0m\n\u001b[0;32m-> 1743\u001b[0;31m             \u001b[0;32mreturn\u001b[0m \u001b[0mgetitem\u001b[0m\u001b[0;34m(\u001b[0m\u001b[0mkey\u001b[0m\u001b[0;34m)\u001b[0m\u001b[0;34m\u001b[0m\u001b[0m\n\u001b[0m\u001b[1;32m   1744\u001b[0m \u001b[0;34m\u001b[0m\u001b[0m\n\u001b[1;32m   1745\u001b[0m         \u001b[0;32mif\u001b[0m \u001b[0misinstance\u001b[0m\u001b[0;34m(\u001b[0m\u001b[0mkey\u001b[0m\u001b[0;34m,\u001b[0m \u001b[0mslice\u001b[0m\u001b[0;34m)\u001b[0m\u001b[0;34m:\u001b[0m\u001b[0;34m\u001b[0m\u001b[0m\n",
      "\u001b[0;31mIndexError\u001b[0m: index 0 is out of bounds for axis 0 with size 0"
     ]
    }
   ],
   "source": [
    "labels[labels.Type == \"sersic\"].index[0]"
   ]
  },
  {
   "cell_type": "markdown",
   "metadata": {},
   "source": [
    "## Generate Images\n",
    "---\n",
    "\n",
    "### Extraction of Image Matrices\n",
    "\n",
    "The following function simply draws the desired chromatic object in each of the survey filters and saves the matrices to a cube."
   ]
  },
  {
   "cell_type": "code",
   "execution_count": null,
   "metadata": {
    "scrolled": false
   },
   "outputs": [],
   "source": [
    "# Define function to retrieve galaxy images\n",
    "def get_images(chromatic_object):\n",
    "    \n",
    "    images = []\n",
    "\n",
    "    for filter_name, pixel_size in zip(filter_names, pixel_sizes):\n",
    "\n",
    "        # Create a galsim ImageF object with the size of the predefined postage stamp\n",
    "        image = galsim.ImageF(*postage)\n",
    "                \n",
    "        # Draw chromatic object images in given filters\n",
    "        chromatic_object.drawImage(filters[filter_name], image=image, scale=pixel_size)\n",
    "\n",
    "        # Extract image matrix\n",
    "        images.append(image._image.array)\n",
    "    \n",
    "    return images"
   ]
  },
  {
   "cell_type": "markdown",
   "metadata": {},
   "source": [
    "### Image Generation\n",
    "\n",
    "The following cell generates the multiband galaxy images and assignes the random half-light radius, angle and shear values defined above."
   ]
  },
  {
   "cell_type": "code",
   "execution_count": null,
   "metadata": {
    "scrolled": true
   },
   "outputs": [],
   "source": [
    "def make_cube(obj):\n",
    "    \n",
    "#     obj_type = random_types[obj_num]\n",
    "#     sed = seds[obj_num]\n",
    "#     hlr = random_hlr[obj_num]\n",
    "#     psf_size = psf_sizes[obj_num]\n",
    "#     beta = random_beta[obj_num]\n",
    "#     q = random_q[obj_num]\n",
    "    \n",
    "#     hlr *= 10\n",
    "                \n",
    "    # Generate a monochromatic object with given half light radius\n",
    "    if obj.Type == 'sersic':\n",
    "        mono_gal = galsim.Sersic(n=4, half_light_radius=obj.HLR).shear(q=obj.q, beta=obj.beta)\n",
    "    elif obj.Type == 'exponential':\n",
    "        mono_gal = galsim.Exponential(half_light_radius=obj.HLR).shear(q=obj.q, beta=obj.beta)\n",
    "    elif obj.Type == 'pixel':\n",
    "        mono_gal = galsim.Pixel(1., 1.)\n",
    "                        \n",
    "    # Create a standard chromatic object instance\n",
    "    chromo_gal = mono_gal * obj.SED.atRedshift(0.0)\n",
    "    \n",
    "    # Convolve with PSF\n",
    "#     chromo_gal = galsim.Convolve([chromo_gal, galsim.Moffat(fwhm=psf_size, beta=2.5)])\n",
    "    chromo_gal = galsim.Convolve([chromo_gal, galsim.Gaussian(fwhm=obj.PSF_Size)])\n",
    "            \n",
    "    return get_images(chromo_gal)\n"
   ]
  },
  {
   "cell_type": "code",
   "execution_count": null,
   "metadata": {},
   "outputs": [],
   "source": [
    "images = np.array([make_cube(labels.loc[i]) for i in range(sample_size)])"
   ]
  },
  {
   "cell_type": "markdown",
   "metadata": {},
   "source": [
    "## Sample Outputs\n",
    "---"
   ]
  },
  {
   "cell_type": "code",
   "execution_count": null,
   "metadata": {
    "scrolled": false
   },
   "outputs": [],
   "source": [
    "# Plot the images for a specified object\n",
    "def show_images(images, obj_num):\n",
    "\n",
    "    plt.figure(figsize=(14, 9))\n",
    "\n",
    "    for i in range(sample_size):\n",
    "        plt.subplot(3, 3, i + 1)\n",
    "        plt.imshow(images[obj_num, i], interpolation='none', cmap='magma', vmin=0, \n",
    "                   vmax=np.max(images[0]))\n",
    "        plt.axis('off')\n",
    "        plt.title(filter_names[i], fontsize=20)\n",
    "\n",
    "    plt.show()"
   ]
  },
  {
   "cell_type": "markdown",
   "metadata": {},
   "source": [
    "### Sersic Images"
   ]
  },
  {
   "cell_type": "code",
   "execution_count": null,
   "metadata": {
    "scrolled": false
   },
   "outputs": [],
   "source": [
    "show_images(images, labels[labels.Type == \"sersic\"].index[0])"
   ]
  },
  {
   "cell_type": "markdown",
   "metadata": {},
   "source": [
    "### Exponential Images"
   ]
  },
  {
   "cell_type": "code",
   "execution_count": null,
   "metadata": {},
   "outputs": [],
   "source": [
    "show_images(images, labels[labels.Type == \"exponential\"].index[0])"
   ]
  },
  {
   "cell_type": "markdown",
   "metadata": {},
   "source": [
    "### Pixel Images"
   ]
  },
  {
   "cell_type": "code",
   "execution_count": null,
   "metadata": {},
   "outputs": [],
   "source": [
    "show_images(images, labels[labels.Type == \"pixel\"].index[0])"
   ]
  },
  {
   "cell_type": "markdown",
   "metadata": {},
   "source": [
    "## Output\n",
    "---\n",
    "\n",
    "Finally this cell saves the galaxy images to a Numpy binary file called `chromatic_images.npy`."
   ]
  },
  {
   "cell_type": "code",
   "execution_count": null,
   "metadata": {},
   "outputs": [],
   "source": []
  },
  {
   "cell_type": "code",
   "execution_count": null,
   "metadata": {},
   "outputs": [],
   "source": [
    "# Save imgaes to Numpy binary"
   ]
  }
 ],
 "metadata": {
  "kernelspec": {
   "display_name": "Python 2",
   "language": "python",
   "name": "python2"
  },
  "language_info": {
   "codemirror_mode": {
    "name": "ipython",
    "version": 2
   },
   "file_extension": ".py",
   "mimetype": "text/x-python",
   "name": "python",
   "nbconvert_exporter": "python",
   "pygments_lexer": "ipython2",
   "version": "2.7.14"
  }
 },
 "nbformat": 4,
 "nbformat_minor": 2
}

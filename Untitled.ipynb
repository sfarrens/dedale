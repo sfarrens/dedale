{
 "cells": [
  {
   "cell_type": "code",
   "execution_count": 1,
   "metadata": {},
   "outputs": [],
   "source": [
    "%matplotlib inline\n",
    "import numpy as np\n",
    "import matplotlib.pyplot as plt\n",
    "import galsim"
   ]
  },
  {
   "cell_type": "code",
   "execution_count": 81,
   "metadata": {},
   "outputs": [
    {
     "name": "stdout",
     "output_type": "stream",
     "text": [
      "galsim.Convolve(galsim.Exponential(scale_radius=0.178747304213).shear(galsim.Shear(g1=0.3333333333333333,g2=-8.164311994315689e-17)), galsim.Gaussian(sigma=0.0))\n"
     ]
    }
   ],
   "source": [
    "postage = [41, 41]\n",
    "pixel_size = 0.05\n",
    "hlr = 0.3\n",
    "psf_size = 0.0\n",
    "\n",
    "phi = galsim.Angle(0.0, galsim.degrees)\n",
    "\n",
    "# mono_gal = galsim.InclinedExponential(half_light_radius=hlr, inclination=phi)\n",
    "mono_gal = galsim.Exponential(half_light_radius=hlr)\n",
    "mono_gal = mono_gal.shear(q=0.5, beta=galsim.Angle(180.0, galsim.degrees))\n",
    "# mono_gal = mono_gal.shear(e1=0.0, e2=0.9)\n",
    "mono_gal = galsim.Convolve([mono_gal, galsim.Gaussian(fwhm=psf_size)])\n",
    "\n",
    "print mono_gal\n",
    "\n",
    "image = galsim.ImageF(*postage)               \n",
    "mono_gal.drawImage(image=image, scale=pixel_size)\n",
    "data = image._image.array"
   ]
  },
  {
   "cell_type": "code",
   "execution_count": 82,
   "metadata": {},
   "outputs": [
    {
     "data": {
      "image/png": "[encoded data removed]",
      "text/plain": [
       "<matplotlib.figure.Figure at 0x117333990>"
      ]
     },
     "metadata": {},
     "output_type": "display_data"
    }
   ],
   "source": [
    "plt.figure(figsize=(8, 8))\n",
    "plt.imshow(data)\n",
    "plt.colorbar()\n",
    "plt.show()"
   ]
  },
  {
   "cell_type": "code",
   "execution_count": 72,
   "metadata": {},
   "outputs": [
    {
     "data": {
      "text/plain": [
       "27"
      ]
     },
     "execution_count": 72,
     "metadata": {},
     "output_type": "execute_result"
    }
   ],
   "source": [
    "np.sum(np.around(data.sum(axis=0), decimals=2) > 0)"
   ]
  },
  {
   "cell_type": "code",
   "execution_count": 83,
   "metadata": {},
   "outputs": [
    {
     "name": "stdout",
     "output_type": "stream",
     "text": [
      "0.5999999999999999 -1.4695761589768236e-16\n"
     ]
    }
   ],
   "source": [
    "ee = galsim.Shear(q=0.5, beta=galsim.Angle(180.0, galsim.degrees))\n",
    "print ee.e1, ee.e2"
   ]
  },
  {
   "cell_type": "code",
   "execution_count": null,
   "metadata": {},
   "outputs": [],
   "source": []
  }
 ],
 "metadata": {
  "kernelspec": {
   "display_name": "Python 2",
   "language": "python",
   "name": "python2"
  },
  "language_info": {
   "codemirror_mode": {
    "name": "ipython",
    "version": 2
   },
   "file_extension": ".py",
   "mimetype": "text/x-python",
   "name": "python",
   "nbconvert_exporter": "python",
   "pygments_lexer": "ipython2",
   "version": "2.7.14"
  }
 },
 "nbformat": 4,
 "nbformat_minor": 2
}

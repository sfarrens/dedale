{
 "cells": [
  {
   "cell_type": "markdown",
   "metadata": {},
   "source": [
    "# GalSim Chromatic Objects for DEDALE\n",
    "---\n",
    "> Author: **Samuel Farrens [<samuel.farrens@gmail.com>]**  \n",
    "> Year: **2018**\n",
    "\n",
    "This notebook is used to generate multi-colour galaxy images with a either a Sersic, Exponential or single pixel profile using LSST and Euclid filters. SEDs are drawn from simulated spectra.\n",
    "\n",
    "## Set-Up\n",
    "---"
   ]
  },
  {
   "cell_type": "code",
   "execution_count": 1,
   "metadata": {
    "scrolled": true
   },
   "outputs": [],
   "source": [
    "%matplotlib inline\n",
    "import numpy as np\n",
    "import matplotlib.pyplot as plt\n",
    "import galsim\n",
    "from astropy import units as u\n",
    "from os import environ\n",
    "import pandas as pd"
   ]
  },
  {
   "cell_type": "markdown",
   "metadata": {},
   "source": [
    "In the next cell you should set the path to your local GalSim installation in order to find the LSST filters.\n",
    "\n",
    "You should also set the desired number of galaxy images and the postage stamp size for each image."
   ]
  },
  {
   "cell_type": "code",
   "execution_count": 2,
   "metadata": {
    "scrolled": true
   },
   "outputs": [],
   "source": [
    "# Set path to GalSim\n",
    "galsim_path = galsim.meta_data.share_dir\n",
    "dedale_path = environ['HOME'] + '/Documents/Projects/DEDALE/spec_phot/'\n",
    "\n",
    "# Set total number of galaxy images to generate\n",
    "sample_size = 50\n",
    "\n",
    "# Postage stamp size\n",
    "postage = [41, 41]\n",
    "\n",
    "# Update FFT size\n",
    "big_fft_params = galsim.GSParams(maximum_fft_size=10240)"
   ]
  },
  {
   "cell_type": "markdown",
   "metadata": {},
   "source": [
    "## Survey Properties\n",
    "---\n",
    "\n",
    "The cell below sets properties for the LSST and Euclid surveys."
   ]
  },
  {
   "cell_type": "code",
   "execution_count": 3,
   "metadata": {},
   "outputs": [],
   "source": [
    "# Filter Names\n",
    "lsst_filters = 'ugrizy'\n",
    "euclid_filters = 'yJH'\n",
    "\n",
    "filter_names = ['lsst_' + f for f in lsst_filters] + ['euclid_' + f for f in euclid_filters]\n",
    "\n",
    "# Pixel Scale\n",
    "lsst_pixel_size = 0.2\n",
    "euclid_pixel_size = lsst_pixel_size\n",
    "# euclid_pixel_size = 0.3 # True Euclid pixel scale\n",
    "\n",
    "pixel_sizes = [lsst_pixel_size for f in lsst_filters] + [euclid_pixel_size for f in euclid_filters]\n",
    "\n",
    "# PSF FWHM\n",
    "lsst_psf_fwhm = 0.7\n",
    "euclid_psf_fwhm = 0.3\n",
    "\n",
    "# psf_sizes = [lsst_psf_fwhm for f in lsst_filters] + [euclid_psf_fwhm for f in euclid_filters]"
   ]
  },
  {
   "cell_type": "markdown",
   "metadata": {},
   "source": [
    "## Labels\n",
    "---"
   ]
  },
  {
   "cell_type": "markdown",
   "metadata": {},
   "source": [
    "The following cell extracts the object IDs, SED types and redshifts from the file `2017-12-06_LSST_photometry.csv`."
   ]
  },
  {
   "cell_type": "code",
   "execution_count": 4,
   "metadata": {},
   "outputs": [],
   "source": [
    "object_ids, object_seds, object_z = np.genfromtxt(dedale_path + '2017-12-06_LSST_photometry.csv', dtype=str,\n",
    "                                                   delimiter=',', skip_header=1, unpack=True)[:3, :sample_size]\n",
    "\n",
    "labels = pd.DataFrame(data={'ID': object_ids, 'SED_ID': object_seds, 'z': object_z}, dtype='object')\n",
    "\n",
    "del object_ids, object_seds, object_z"
   ]
  },
  {
   "cell_type": "markdown",
   "metadata": {},
   "source": [
    "## Survey Bandpasses\n",
    "---\n",
    "\n",
    "The following cell generates GalSim Bandpass objects using LSST and Euclid filters."
   ]
  },
  {
   "cell_type": "code",
   "execution_count": 5,
   "metadata": {
    "scrolled": true
   },
   "outputs": [],
   "source": [
    "# Set path to LSST filters files\n",
    "lsst_path = galsim_path + '/bandpasses/'\n",
    "euclid_path = dedale_path + 'euclid_bandpasses/'\n",
    "\n",
    "# Create dictionary of galsim Bandpass objects\n",
    "filters = {'lsst_' + filt: galsim.Bandpass(lsst_path + 'LSST_' + filt + '.dat', \n",
    "           wave_type='nm').thin(rel_err=1e-4) for filt in lsst_filters}\n",
    "filters.update({'euclid_' + filt: galsim.Bandpass(euclid_path + filt + '_NISP.Euclid.pb', \n",
    "                wave_type='nm').thin(rel_err=1e-4) for filt in euclid_filters})"
   ]
  },
  {
   "cell_type": "markdown",
   "metadata": {},
   "source": [
    "## Object SEDs\n",
    "---\n",
    "\n",
    "The following cell generates GalSim SED objects using simulated spectra."
   ]
  },
  {
   "cell_type": "code",
   "execution_count": 6,
   "metadata": {
    "scrolled": false
   },
   "outputs": [],
   "source": [
    "def get_sed(file_name):\n",
    "    \n",
    "     return galsim.SED(file_name, wave_type=u.AA, flux_type=u.erg/(u.s*u.cm**2*u.AA))\n",
    "\n",
    "# Set path to SED files\n",
    "sed_path = dedale_path + 'sed_files/'\n",
    "\n",
    "# # Create dictionary of galsim SED objects\n",
    "seds = np.array([get_sed(sed_path + 'obj_{}.sed'.format(obj_id)) for obj_id in labels.ID])"
   ]
  },
  {
   "cell_type": "markdown",
   "metadata": {},
   "source": [
    "## Image Sizes\n",
    "---\n",
    "\n",
    "The following cell uses a range of half-light radius values taken from Great3 data. Galaxy images will be assigned a random flux that follows the distribution in the file `hlr_dist.npy`."
   ]
  },
  {
   "cell_type": "code",
   "execution_count": 7,
   "metadata": {},
   "outputs": [],
   "source": [
    "# Read in half light radius (HLR) distribution\n",
    "hlr_dist = np.load('hlr_dist.npy')\n",
    "\n",
    "# Get the probability density of HLR values\n",
    "hlr_hist, hlr_bins = np.histogram(hlr_dist, bins=50, density=True)\n",
    "\n",
    "# Normalise HLR hist values\n",
    "hlr_hist /= hlr_hist.sum()\n",
    "\n",
    "# Adjust bin edges to bin centres\n",
    "hlr_bins = (hlr_bins[:-1] + hlr_bins[1:]) / 2.0\n",
    "\n",
    "# Define random HLR values from PDF\n",
    "random_hlr = (np.random.choice(hlr_bins, size=sample_size, p=hlr_hist) + \n",
    "              np.random.ranf(sample_size) * (hlr_bins[1] - hlr_bins[0]))\n",
    "\n",
    "del hlr_dist, hlr_hist, hlr_bins"
   ]
  },
  {
   "cell_type": "markdown",
   "metadata": {},
   "source": [
    "## Image Ellipticities\n",
    "---\n",
    "\n",
    "The following cell sets random ellipticity parameters for the images."
   ]
  },
  {
   "cell_type": "code",
   "execution_count": 8,
   "metadata": {},
   "outputs": [],
   "source": [
    "# Random rotation\n",
    "object_beta = np.array([galsim.Angle(np.random.ranf() * 180.0, galsim.degrees) for i in range(sample_size)])\n",
    "# Random axis ratio\n",
    "object_q = np.array([np.random.ranf() for i in range(sample_size)])\n",
    "# Ellipticity components\n",
    "labels['e1'] = np.array([galsim.Shear(q=q, beta=beta).e1 for q, beta in zip(object_q, object_beta)])\n",
    "labels['e2'] = np.array([galsim.Shear(q=q, beta=beta).e2 for q, beta in zip(object_q, object_beta)])"
   ]
  },
  {
   "cell_type": "markdown",
   "metadata": {},
   "source": [
    "## Galaxy Type\n",
    "---\n",
    "\n",
    "The following cell sets random galaxy types"
   ]
  },
  {
   "cell_type": "code",
   "execution_count": 9,
   "metadata": {},
   "outputs": [],
   "source": [
    "types = ('sersic', 'exponential', 'pixel')\n",
    "labels['Type'] = np.array([types[np.random.randint(0, 3)] for i in range(sample_size)])"
   ]
  },
  {
   "cell_type": "markdown",
   "metadata": {},
   "source": [
    "## Generate Images\n",
    "---\n",
    "\n",
    "### Extraction of Image Matrices\n",
    "\n",
    "The following function simply draws the desired chromatic object in each of the survey filters and saves the matrices to a cube."
   ]
  },
  {
   "cell_type": "code",
   "execution_count": 10,
   "metadata": {
    "scrolled": false
   },
   "outputs": [],
   "source": [
    "# Define function to retrieve galaxy images\n",
    "def get_images(chromatic_object):\n",
    "    \n",
    "    images = []\n",
    "\n",
    "    for filter_name, pixel_size in zip(filter_names, pixel_sizes):\n",
    "\n",
    "        # Create a galsim ImageF object with the size of the predefined postage stamp\n",
    "        image = galsim.ImageF(*postage)\n",
    "                \n",
    "        # Draw chromatic object images in given filters\n",
    "        chromatic_object.drawImage(filters[filter_name], image=image, scale=pixel_size)\n",
    "\n",
    "        # Extract image matrix\n",
    "        images.append(image._image.array)\n",
    "    \n",
    "    return images"
   ]
  },
  {
   "cell_type": "markdown",
   "metadata": {},
   "source": [
    "### Image Generation\n",
    "\n",
    "The following cell generates the multiband galaxy images and assignes the random half-light radius, angle and shear values defined above."
   ]
  },
  {
   "cell_type": "code",
   "execution_count": 11,
   "metadata": {
    "scrolled": true
   },
   "outputs": [],
   "source": [
    "def make_cube(obj_num):\n",
    "    \n",
    "    obj = labels.loc[obj_num]\n",
    "    sed = seds[obj_num]\n",
    "    hlr = random_hlr[obj_num]\n",
    "    beta = object_beta[obj_num]\n",
    "    q = object_q[obj_num]\n",
    "    \n",
    "#     hlr *= 10\n",
    "                \n",
    "    # Generate a monochromatic object with given half light radius\n",
    "    if obj.Type == 'sersic':\n",
    "        mono_gal = galsim.Sersic(n=4, half_light_radius=hlr).shear(q=q, beta=beta)\n",
    "    elif obj.Type == 'exponential':\n",
    "        mono_gal = galsim.Exponential(half_light_radius=hlr).shear(q=q, beta=beta)\n",
    "    elif obj.Type == 'pixel':\n",
    "        mono_gal = galsim.Pixel(1., 1.)\n",
    "                        \n",
    "    # Create a standard chromatic object instance\n",
    "    chromo_gal = mono_gal * sed.atRedshift(0.0)\n",
    "    \n",
    "    # Convolve with PSF\n",
    "#     chromo_gal = galsim.Convolve([chromo_gal, galsim.Moffat(fwhm=psf_size, beta=2.5)])\n",
    "    chromo_gal = galsim.Convolve([chromo_gal, galsim.Gaussian(fwhm=euclid_psf_fwhm)], gsparams=big_fft_params)\n",
    "            \n",
    "    return get_images(chromo_gal)\n"
   ]
  },
  {
   "cell_type": "code",
   "execution_count": 12,
   "metadata": {},
   "outputs": [],
   "source": [
    "images = np.array([make_cube(i) for i in range(sample_size)])"
   ]
  },
  {
   "cell_type": "markdown",
   "metadata": {},
   "source": [
    "## Sample Outputs\n",
    "---"
   ]
  },
  {
   "cell_type": "markdown",
   "metadata": {},
   "source": [
    "### Sample Labels"
   ]
  },
  {
   "cell_type": "code",
   "execution_count": 13,
   "metadata": {},
   "outputs": [
    {
     "data": {
      "text/html": [
       "<div>\n",
       "<style scoped>\n",
       "    .dataframe tbody tr th:only-of-type {\n",
       "        vertical-align: middle;\n",
       "    }\n",
       "\n",
       "    .dataframe tbody tr th {\n",
       "        vertical-align: top;\n",
       "    }\n",
       "\n",
       "    .dataframe thead th {\n",
       "        text-align: right;\n",
       "    }\n",
       "</style>\n",
       "<table border=\"1\" class=\"dataframe\">\n",
       "  <thead>\n",
       "    <tr style=\"text-align: right;\">\n",
       "      <th></th>\n",
       "      <th>ID</th>\n",
       "      <th>SED_ID</th>\n",
       "      <th>z</th>\n",
       "      <th>e1</th>\n",
       "      <th>e2</th>\n",
       "      <th>Type</th>\n",
       "    </tr>\n",
       "  </thead>\n",
       "  <tbody>\n",
       "    <tr>\n",
       "      <th>0</th>\n",
       "      <td>256183</td>\n",
       "      <td>223</td>\n",
       "      <td>0.306</td>\n",
       "      <td>-0.236756</td>\n",
       "      <td>-0.225186</td>\n",
       "      <td>pixel</td>\n",
       "    </tr>\n",
       "    <tr>\n",
       "      <th>1</th>\n",
       "      <td>256184</td>\n",
       "      <td>8788</td>\n",
       "      <td>0.478</td>\n",
       "      <td>0.655721</td>\n",
       "      <td>0.738916</td>\n",
       "      <td>sersic</td>\n",
       "    </tr>\n",
       "    <tr>\n",
       "      <th>2</th>\n",
       "      <td>256326</td>\n",
       "      <td>7377</td>\n",
       "      <td>0.2196</td>\n",
       "      <td>0.574667</td>\n",
       "      <td>-0.580563</td>\n",
       "      <td>exponential</td>\n",
       "    </tr>\n",
       "    <tr>\n",
       "      <th>3</th>\n",
       "      <td>256424</td>\n",
       "      <td>8233</td>\n",
       "      <td>0.3334</td>\n",
       "      <td>0.001542</td>\n",
       "      <td>-0.013176</td>\n",
       "      <td>pixel</td>\n",
       "    </tr>\n",
       "    <tr>\n",
       "      <th>4</th>\n",
       "      <td>256455</td>\n",
       "      <td>1511</td>\n",
       "      <td>1.0885</td>\n",
       "      <td>-0.177750</td>\n",
       "      <td>-0.467660</td>\n",
       "      <td>sersic</td>\n",
       "    </tr>\n",
       "    <tr>\n",
       "      <th>5</th>\n",
       "      <td>256908</td>\n",
       "      <td>4930</td>\n",
       "      <td>0.6344</td>\n",
       "      <td>-0.394058</td>\n",
       "      <td>0.463023</td>\n",
       "      <td>exponential</td>\n",
       "    </tr>\n",
       "    <tr>\n",
       "      <th>6</th>\n",
       "      <td>256909</td>\n",
       "      <td>263</td>\n",
       "      <td>0.2102</td>\n",
       "      <td>-0.606494</td>\n",
       "      <td>0.509865</td>\n",
       "      <td>pixel</td>\n",
       "    </tr>\n",
       "    <tr>\n",
       "      <th>7</th>\n",
       "      <td>256957</td>\n",
       "      <td>3922</td>\n",
       "      <td>1.5873</td>\n",
       "      <td>0.243214</td>\n",
       "      <td>-0.299654</td>\n",
       "      <td>pixel</td>\n",
       "    </tr>\n",
       "    <tr>\n",
       "      <th>8</th>\n",
       "      <td>257019</td>\n",
       "      <td>2314</td>\n",
       "      <td>0.2626</td>\n",
       "      <td>0.434701</td>\n",
       "      <td>0.281034</td>\n",
       "      <td>sersic</td>\n",
       "    </tr>\n",
       "    <tr>\n",
       "      <th>9</th>\n",
       "      <td>257058</td>\n",
       "      <td>6010</td>\n",
       "      <td>1.3223</td>\n",
       "      <td>0.292440</td>\n",
       "      <td>-0.956068</td>\n",
       "      <td>pixel</td>\n",
       "    </tr>\n",
       "    <tr>\n",
       "      <th>10</th>\n",
       "      <td>257059</td>\n",
       "      <td>6297</td>\n",
       "      <td>1.2843</td>\n",
       "      <td>-0.871603</td>\n",
       "      <td>0.190695</td>\n",
       "      <td>sersic</td>\n",
       "    </tr>\n",
       "  </tbody>\n",
       "</table>\n",
       "</div>"
      ],
      "text/plain": [
       "        ID SED_ID       z        e1        e2         Type\n",
       "0   256183    223   0.306 -0.236756 -0.225186        pixel\n",
       "1   256184   8788   0.478  0.655721  0.738916       sersic\n",
       "2   256326   7377  0.2196  0.574667 -0.580563  exponential\n",
       "3   256424   8233  0.3334  0.001542 -0.013176        pixel\n",
       "4   256455   1511  1.0885 -0.177750 -0.467660       sersic\n",
       "5   256908   4930  0.6344 -0.394058  0.463023  exponential\n",
       "6   256909    263  0.2102 -0.606494  0.509865        pixel\n",
       "7   256957   3922  1.5873  0.243214 -0.299654        pixel\n",
       "8   257019   2314  0.2626  0.434701  0.281034       sersic\n",
       "9   257058   6010  1.3223  0.292440 -0.956068        pixel\n",
       "10  257059   6297  1.2843 -0.871603  0.190695       sersic"
      ]
     },
     "execution_count": 13,
     "metadata": {},
     "output_type": "execute_result"
    }
   ],
   "source": [
    "# Show first 10 labels\n",
    "labels.loc[:10]"
   ]
  },
  {
   "cell_type": "code",
   "execution_count": 14,
   "metadata": {
    "scrolled": false
   },
   "outputs": [],
   "source": [
    "# Plot the images for a specified object\n",
    "def show_images(image):\n",
    "\n",
    "    plt.figure(figsize=(14, 9))\n",
    "\n",
    "    for i in range(len(filters)):\n",
    "        plt.subplot(3, 3, i + 1)\n",
    "        plt.imshow(image[i], interpolation='none', cmap='magma', vmin=0, vmax=np.max(image))\n",
    "        plt.axis('off')\n",
    "        plt.title(filter_names[i], fontsize=20)\n",
    "\n",
    "    plt.show()"
   ]
  },
  {
   "cell_type": "markdown",
   "metadata": {},
   "source": [
    "### Sersic Images"
   ]
  },
  {
   "cell_type": "code",
   "execution_count": 15,
   "metadata": {
    "scrolled": false
   },
   "outputs": [
    {
     "data": {
      "image/png": "[encoded data removed]",
      "text/plain": [
       "<matplotlib.figure.Figure at 0x11cfd4cd0>"
      ]
     },
     "metadata": {},
     "output_type": "display_data"
    }
   ],
   "source": [
    "show_images(images[labels[labels.Type == \"sersic\"].index[0]])"
   ]
  },
  {
   "cell_type": "markdown",
   "metadata": {},
   "source": [
    "### Exponential Images"
   ]
  },
  {
   "cell_type": "code",
   "execution_count": 16,
   "metadata": {},
   "outputs": [
    {
     "data": {
      "image/png": "[encoded data removed]",
      "text/plain": [
       "<matplotlib.figure.Figure at 0x1144a2e50>"
      ]
     },
     "metadata": {},
     "output_type": "display_data"
    }
   ],
   "source": [
    "show_images(images[labels[labels.Type == \"exponential\"].index[0]])"
   ]
  },
  {
   "cell_type": "markdown",
   "metadata": {},
   "source": [
    "### Pixel Images"
   ]
  },
  {
   "cell_type": "code",
   "execution_count": 17,
   "metadata": {},
   "outputs": [
    {
     "data": {
      "image/png": "[encoded data removed]",
      "text/plain": [
       "<matplotlib.figure.Figure at 0x1142bfa50>"
      ]
     },
     "metadata": {},
     "output_type": "display_data"
    }
   ],
   "source": [
    "show_images(images[labels[labels.Type == \"pixel\"].index[0]])"
   ]
  },
  {
   "cell_type": "markdown",
   "metadata": {},
   "source": [
    "## Output\n",
    "---\n",
    "\n",
    "Finally this cell saves the galaxy images to a Numpy binary file called `chromatic_images.npy`."
   ]
  },
  {
   "cell_type": "code",
   "execution_count": 18,
   "metadata": {},
   "outputs": [],
   "source": [
    "# Save imgaes to Numpy binary\n",
    "np.save('chromatic_images.npy', images)"
   ]
  },
  {
   "cell_type": "code",
   "execution_count": 19,
   "metadata": {},
   "outputs": [],
   "source": [
    "# Save labels to pickle\n",
    "labels.to_pickle('image_labels.pkl')"
   ]
  }
 ],
 "metadata": {
  "kernelspec": {
   "display_name": "Python 2",
   "language": "python",
   "name": "python2"
  },
  "language_info": {
   "codemirror_mode": {
    "name": "ipython",
    "version": 2
   },
   "file_extension": ".py",
   "mimetype": "text/x-python",
   "name": "python",
   "nbconvert_exporter": "python",
   "pygments_lexer": "ipython2",
   "version": "2.7.14"
  }
 },
 "nbformat": 4,
 "nbformat_minor": 2
}

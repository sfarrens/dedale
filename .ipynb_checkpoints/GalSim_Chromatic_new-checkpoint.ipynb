{
 "cells": [
  {
   "cell_type": "markdown",
   "metadata": {},
   "source": [
    "# GalSim Chromatic Objects for DEDALE\n",
    "---\n",
    "> Author: **Samuel Farrens [<samuel.farrens@gmail.com>]**  \n",
    "> Year: **2018**\n",
    "\n",
    "This notebook is used to generate multi-colour galaxy images with a either a Sersic, Exponential or single pixel profile using LSST and Euclid filters. SEDs are drawn from simulated spectra.\n",
    "\n",
    "## Set-Up\n",
    "---"
   ]
  },
  {
   "cell_type": "code",
   "execution_count": 1,
   "metadata": {
    "scrolled": true
   },
   "outputs": [],
   "source": [
    "%matplotlib inline\n",
    "import numpy as np\n",
    "import matplotlib.pyplot as plt\n",
    "import galsim\n",
    "from astropy import units as u\n",
    "from os import environ"
   ]
  },
  {
   "cell_type": "markdown",
   "metadata": {},
   "source": [
    "In the next cell you should set the path to your local GalSim installation in order to find the LSST filters.\n",
    "\n",
    "You should also set the desired number of galaxy images and the postage stamp size for each image."
   ]
  },
  {
   "cell_type": "code",
   "execution_count": 2,
   "metadata": {
    "scrolled": true
   },
   "outputs": [],
   "source": [
    "# Set path to GalSim\n",
    "galsim_path = galsim.meta_data.share_dir\n",
    "dedale_path = environ['HOME'] + '/Documents/Projects/DEDALE/spec_phot/'\n",
    "\n",
    "# Set total number of galaxy images to generate\n",
    "sample_size = 9\n",
    "\n",
    "# Postage stamp size\n",
    "postage = [41, 41]"
   ]
  },
  {
   "cell_type": "markdown",
   "metadata": {},
   "source": [
    "## Survey Properties\n",
    "---\n",
    "\n",
    "The cell below sets properties for the LSST and Euclid surveys."
   ]
  },
  {
   "cell_type": "code",
   "execution_count": 3,
   "metadata": {},
   "outputs": [],
   "source": [
    "# Filter Names\n",
    "lsst_filters = 'ugrizy'\n",
    "euclid_filters = 'yJH'\n",
    "\n",
    "filter_names = ['lsst_' + f for f in lsst_filters] + ['euclid_' + f for f in euclid_filters]\n",
    "\n",
    "\n",
    "# Pixel Scale\n",
    "euclid_pixel_size = 0.3\n",
    "lsst_pixel_size = 0.2\n",
    "\n",
    "pixel_sizes = [lsst_pixel_size for f in lsst_filters] + [euclid_pixel_size for f in euclid_filters]"
   ]
  },
  {
   "cell_type": "markdown",
   "metadata": {},
   "source": [
    "## Object IDs\n",
    "---"
   ]
  },
  {
   "cell_type": "markdown",
   "metadata": {},
   "source": [
    "The following cell extracts the object IDs, SED types and redshifts from the file `2017-12-06_LSST_photometry.csv`."
   ]
  },
  {
   "cell_type": "code",
   "execution_count": 4,
   "metadata": {},
   "outputs": [],
   "source": [
    "object_ids, object_types, object_z = np.genfromtxt(dedale_path + '2017-12-06_LSST_photometry.csv', dtype=str,\n",
    "                                                   delimiter=',', skip_header=1, unpack=True)[:3, :sample_size]"
   ]
  },
  {
   "cell_type": "markdown",
   "metadata": {},
   "source": [
    "## Survey Bandpasses\n",
    "---\n",
    "\n",
    "The following cell generates GalSim Bandpass objects using LSST and Euclid filters."
   ]
  },
  {
   "cell_type": "code",
   "execution_count": 5,
   "metadata": {
    "scrolled": true
   },
   "outputs": [],
   "source": [
    "# Set path to LSST filters files\n",
    "lsst_path = galsim_path + '/bandpasses/'\n",
    "euclid_path = dedale_path + 'euclid_bandpasses/'\n",
    "\n",
    "# Create dictionary of galsim Bandpass objects\n",
    "filters = {'lsst_' + filt: galsim.Bandpass(lsst_path + 'LSST_' + filt + '.dat', \n",
    "           wave_type='nm').thin(rel_err=1e-4) for filt in lsst_filters}\n",
    "filters.update({'euclid_' + filt: galsim.Bandpass(euclid_path + filt + '_NISP.Euclid.pb', \n",
    "                wave_type='nm').thin(rel_err=1e-4) for filt in euclid_filters})\n",
    "\n",
    "del lsst_path, euclid_path"
   ]
  },
  {
   "cell_type": "markdown",
   "metadata": {},
   "source": [
    "## Object SEDs\n",
    "---\n",
    "\n",
    "The following cell generates GalSim SED objects using simulated spectra."
   ]
  },
  {
   "cell_type": "code",
   "execution_count": 6,
   "metadata": {
    "scrolled": false
   },
   "outputs": [],
   "source": [
    "def get_sed(file_name):\n",
    "    \n",
    "     return galsim.SED(file_name, wave_type=u.AA, flux_type=u.erg/(u.s*u.cm**2*u.AA))\n",
    "\n",
    "# Set path to SED files\n",
    "sed_path = dedale_path + 'sed_files/'\n",
    "\n",
    "# # Create dictionary of galsim SED objects\n",
    "seds = np.array([get_sed(sed_path + 'obj_{}.sed'.format(obj_id)) for obj_id in object_ids])\n",
    "\n",
    "del sed_path"
   ]
  },
  {
   "cell_type": "markdown",
   "metadata": {},
   "source": [
    "## Image Sizes\n",
    "---\n",
    "\n",
    "The following cell uses a range of half-light radius values taken from Great3 data. Galaxy images will be assigned a random flux that follows the distribution in the file `hlr_dist.npy`."
   ]
  },
  {
   "cell_type": "code",
   "execution_count": 7,
   "metadata": {},
   "outputs": [],
   "source": [
    "# Read in half light radius (HLR) distribution\n",
    "hlr_dist = np.load('hlr_dist.npy')\n",
    "\n",
    "# Get the probability density of HLR values\n",
    "hlr_hist, hlr_bins = np.histogram(hlr_dist, bins=50, density=True)\n",
    "\n",
    "# Normalise HLR hist values\n",
    "hlr_hist /= hlr_hist.sum()\n",
    "\n",
    "# Adjust bin edges to bin centres\n",
    "hlr_bins = (hlr_bins[:-1] + hlr_bins[1:]) / 2.0\n",
    "\n",
    "# Define random HLR values from PDF\n",
    "random_hlr = (np.random.choice(hlr_bins, size=sample_size, p=hlr_hist) + \n",
    "              np.random.ranf(sample_size) * (hlr_bins[1] - hlr_bins[0]))\n",
    "\n",
    "del hlr_dist, hlr_hist, hlr_bins"
   ]
  },
  {
   "cell_type": "markdown",
   "metadata": {},
   "source": [
    "## Generate Images\n",
    "---\n",
    "\n",
    "### Extraction of Image Matrices\n",
    "\n",
    "The following function simply draws the desired chromatic object in each of the survey filters and saves the matrices to a cube."
   ]
  },
  {
   "cell_type": "code",
   "execution_count": 8,
   "metadata": {
    "scrolled": false
   },
   "outputs": [],
   "source": [
    "# Define function to retrieve galaxy images\n",
    "def get_images(chromatic_object):\n",
    "    \n",
    "    images = []\n",
    "\n",
    "    for filter_name, pixel_size in zip(filter_names, pixel_sizes):\n",
    "\n",
    "        # Create a galsim ImageF object with the size of the predefined postage stamp\n",
    "        image = galsim.ImageF(*postage)\n",
    "                \n",
    "        # Draw chromatic object images in given filters\n",
    "        chromatic_object.drawImage(filters[filter_name], image=image, scale=pixel_size)\n",
    "\n",
    "        # Extract image matrix\n",
    "        images.append(image._image.array)\n",
    "    \n",
    "    return images"
   ]
  },
  {
   "cell_type": "markdown",
   "metadata": {},
   "source": [
    "### Image Generation\n",
    "\n",
    "The following cell generates the multiband galaxy images and assignes the random half-light radius, angle and shear values defined above."
   ]
  },
  {
   "cell_type": "code",
   "execution_count": 9,
   "metadata": {
    "scrolled": true
   },
   "outputs": [],
   "source": [
    "def make_cube(obj_num, obj_type='sersic'):\n",
    "    \n",
    "    sed = seds[obj_num]\n",
    "    hlr = random_hlr[obj_num]\n",
    "    \n",
    "    # Random rotation\n",
    "    theta = galsim.Angle(np.random.ranf() * 180.0, galsim.degrees)\n",
    "    # Random inclination\n",
    "    phi = galsim.Angle(np.random.ranf() * 90.0, galsim.degrees)\n",
    "                \n",
    "    # Generate a monochromatic object with given half light radius\n",
    "    if obj_type == 'sersic':\n",
    "        mono_gal = galsim.InclinedSersic(n=4, half_light_radius=hlr, inclination=phi)\n",
    "    elif obj_type == 'exp':\n",
    "        mono_gal = galsim.InclinedExponential(half_light_radius=hlr, inclination=phi)\n",
    "    elif obj_type == 'pixel':\n",
    "        mono_gal = galsim.Pixel(1., 1.)  \n",
    "        \n",
    "    # Create a standard chromatic object instance\n",
    "    chromo_gal = mono_gal * sed.atRedshift(0.0)\n",
    "        \n",
    "    # Apply rotation\n",
    "    chromo_gal = chromo_gal.rotate(theta)\n",
    "    \n",
    "    # Convolve with PSF\n",
    "    chromo_gal = galsim.Convolve([chromo_gal, galsim.Moffat(fwhm=0.6, beta=2.5)])\n",
    "        \n",
    "    return get_images(chromo_gal)\n"
   ]
  },
  {
   "cell_type": "code",
   "execution_count": 10,
   "metadata": {},
   "outputs": [],
   "source": [
    "sersic_images = np.array([make_cube(i, 'sersic') for i in range(sample_size * 1 / 3)])\n",
    "exp_images = np.array([make_cube(i, 'exp') for i in range(sample_size * 1 / 3, sample_size * 2 / 3)])\n",
    "pixel_images = np.array([make_cube(i, 'pixel') for i in range(sample_size * 2 / 3, sample_size)])"
   ]
  },
  {
   "cell_type": "markdown",
   "metadata": {},
   "source": [
    "## Sample Outputs\n",
    "---"
   ]
  },
  {
   "cell_type": "code",
   "execution_count": 11,
   "metadata": {
    "scrolled": false
   },
   "outputs": [],
   "source": [
    "# Plot the images for a specified object\n",
    "def show_images(images, obj_num):\n",
    "\n",
    "    plt.figure(figsize=(14, 9))\n",
    "\n",
    "    for i in range(sample_size):\n",
    "        plt.subplot(3, 3, i + 1)\n",
    "        plt.imshow(images[obj_num, i], interpolation='none', cmap='magma', vmin=0, \n",
    "                   vmax=np.max(images[0]))\n",
    "        plt.axis('off')\n",
    "        plt.title(filter_names[i], fontsize=20)\n",
    "\n",
    "    plt.show()"
   ]
  },
  {
   "cell_type": "markdown",
   "metadata": {},
   "source": [
    "### Sersic Images"
   ]
  },
  {
   "cell_type": "code",
   "execution_count": 12,
   "metadata": {
    "scrolled": false
   },
   "outputs": [
    {
     "data": {
      "image/png": "[encoded data removed]",
      "text/plain": [
       "<matplotlib.figure.Figure at 0x10ac378d0>"
      ]
     },
     "metadata": {},
     "output_type": "display_data"
    }
   ],
   "source": [
    "show_images(sersic_images, 0)"
   ]
  },
  {
   "cell_type": "markdown",
   "metadata": {},
   "source": [
    "### Exponential Images"
   ]
  },
  {
   "cell_type": "code",
   "execution_count": 13,
   "metadata": {},
   "outputs": [
    {
     "data": {
      "image/png": "[encoded data removed]",
      "text/plain": [
       "<matplotlib.figure.Figure at 0x10d399690>"
      ]
     },
     "metadata": {},
     "output_type": "display_data"
    }
   ],
   "source": [
    "show_images(exp_images, 0)"
   ]
  },
  {
   "cell_type": "markdown",
   "metadata": {},
   "source": [
    "### Pixel Images"
   ]
  },
  {
   "cell_type": "code",
   "execution_count": 14,
   "metadata": {},
   "outputs": [
    {
     "data": {
      "image/png": "[encoded data removed]",
      "text/plain": [
       "<matplotlib.figure.Figure at 0x10d61f410>"
      ]
     },
     "metadata": {},
     "output_type": "display_data"
    }
   ],
   "source": [
    "show_images(pixel_images, 0)"
   ]
  },
  {
   "cell_type": "markdown",
   "metadata": {},
   "source": [
    "## Output\n",
    "---\n",
    "\n",
    "Finally this cell saves the galaxy images to a Numpy binary file called `chromatic_images.npy`."
   ]
  },
  {
   "cell_type": "code",
   "execution_count": 15,
   "metadata": {},
   "outputs": [],
   "source": [
    "# Save imgaes to Numpy binary"
   ]
  }
 ],
 "metadata": {
  "kernelspec": {
   "display_name": "Python 2",
   "language": "python",
   "name": "python2"
  },
  "language_info": {
   "codemirror_mode": {
    "name": "ipython",
    "version": 2
   },
   "file_extension": ".py",
   "mimetype": "text/x-python",
   "name": "python",
   "nbconvert_exporter": "python",
   "pygments_lexer": "ipython2",
   "version": "2.7.13"
  }
 },
 "nbformat": 4,
 "nbformat_minor": 2
}
